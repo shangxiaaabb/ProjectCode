{
 "cells": [
  {
   "cell_type": "code",
   "execution_count": 11,
   "id": "95c4eb3d",
   "metadata": {},
   "outputs": [
    {
     "data": {
      "text/html": [
       "<div>\n",
       "<style scoped>\n",
       "    .dataframe tbody tr th:only-of-type {\n",
       "        vertical-align: middle;\n",
       "    }\n",
       "\n",
       "    .dataframe tbody tr th {\n",
       "        vertical-align: top;\n",
       "    }\n",
       "\n",
       "    .dataframe thead th {\n",
       "        text-align: right;\n",
       "    }\n",
       "</style>\n",
       "<table border=\"1\" class=\"dataframe\">\n",
       "  <thead>\n",
       "    <tr style=\"text-align: right;\">\n",
       "      <th></th>\n",
       "      <th>image</th>\n",
       "      <th>caption</th>\n",
       "    </tr>\n",
       "  </thead>\n",
       "  <tbody>\n",
       "    <tr>\n",
       "      <th>0</th>\n",
       "      <td>1000092795.jpg</td>\n",
       "      <td>Two young guys with shaggy hair look at their...</td>\n",
       "    </tr>\n",
       "    <tr>\n",
       "      <th>1</th>\n",
       "      <td>1000092795.jpg</td>\n",
       "      <td>Two young , White males are outside near many...</td>\n",
       "    </tr>\n",
       "    <tr>\n",
       "      <th>2</th>\n",
       "      <td>1000092795.jpg</td>\n",
       "      <td>Two men in green shirts are standing in a yard .</td>\n",
       "    </tr>\n",
       "    <tr>\n",
       "      <th>3</th>\n",
       "      <td>1000092795.jpg</td>\n",
       "      <td>A man in a blue shirt standing in a garden .</td>\n",
       "    </tr>\n",
       "    <tr>\n",
       "      <th>4</th>\n",
       "      <td>1000092795.jpg</td>\n",
       "      <td>Two friends enjoy time spent together .</td>\n",
       "    </tr>\n",
       "    <tr>\n",
       "      <th>...</th>\n",
       "      <td>...</td>\n",
       "      <td>...</td>\n",
       "    </tr>\n",
       "    <tr>\n",
       "      <th>158910</th>\n",
       "      <td>998845445.jpg</td>\n",
       "      <td>A man in shorts and a Hawaiian shirt leans ov...</td>\n",
       "    </tr>\n",
       "    <tr>\n",
       "      <th>158911</th>\n",
       "      <td>998845445.jpg</td>\n",
       "      <td>A young man hanging over the side of a boat ,...</td>\n",
       "    </tr>\n",
       "    <tr>\n",
       "      <th>158912</th>\n",
       "      <td>998845445.jpg</td>\n",
       "      <td>A man is leaning off of the side of a blue an...</td>\n",
       "    </tr>\n",
       "    <tr>\n",
       "      <th>158913</th>\n",
       "      <td>998845445.jpg</td>\n",
       "      <td>A man riding a small boat in a harbor , with ...</td>\n",
       "    </tr>\n",
       "    <tr>\n",
       "      <th>158914</th>\n",
       "      <td>998845445.jpg</td>\n",
       "      <td>A man on a moored blue and white boat with hi...</td>\n",
       "    </tr>\n",
       "  </tbody>\n",
       "</table>\n",
       "<p>158915 rows × 2 columns</p>\n",
       "</div>"
      ],
      "text/plain": [
       "                 image                                            caption\n",
       "0       1000092795.jpg   Two young guys with shaggy hair look at their...\n",
       "1       1000092795.jpg   Two young , White males are outside near many...\n",
       "2       1000092795.jpg   Two men in green shirts are standing in a yard .\n",
       "3       1000092795.jpg       A man in a blue shirt standing in a garden .\n",
       "4       1000092795.jpg            Two friends enjoy time spent together .\n",
       "...                ...                                                ...\n",
       "158910   998845445.jpg   A man in shorts and a Hawaiian shirt leans ov...\n",
       "158911   998845445.jpg   A young man hanging over the side of a boat ,...\n",
       "158912   998845445.jpg   A man is leaning off of the side of a blue an...\n",
       "158913   998845445.jpg   A man riding a small boat in a harbor , with ...\n",
       "158914   998845445.jpg   A man on a moored blue and white boat with hi...\n",
       "\n",
       "[158915 rows x 2 columns]"
      ]
     },
     "execution_count": 11,
     "metadata": {},
     "output_type": "execute_result"
    }
   ],
   "source": [
    "import pandas as pd\n",
    "import cv2\n",
    "import numpy as np\n",
    "\n",
    "f = pd.read_csv('/data/huangjie/flickr30k/captions.txt')\n",
    "f"
   ]
  },
  {
   "cell_type": "code",
   "execution_count": 5,
   "id": "72c063c2",
   "metadata": {},
   "outputs": [
    {
     "name": "stdout",
     "output_type": "stream",
     "text": [
      "tensor([[-0.1730,  0.2201, -0.1030,  ...,  0.6826, -0.3804, -0.4109],\n",
      "        [-0.1730,  0.2201, -0.1030,  ...,  0.6826, -0.3804, -0.4109]],\n",
      "       device='cuda:0', dtype=torch.float16, grad_fn=<MmBackward0>) torch.Size([2, 512])\n"
     ]
    }
   ],
   "source": [
    "import clip\n",
    "import torch\n",
    "import cv2\n",
    "from PIL import Image\n",
    "import numpy as np\n",
    "from transformers import CLIPModel, CLIPProcessor\n",
    "\n",
    "cache_dir = './'\n",
    "device = \"cuda\" if torch.cuda.is_available() else \"cpu\"\n",
    "model, processor = clip.load(\"ViT-B/32\", \n",
    "                              device=device,\n",
    "                              download_root= '/data/huangjie/')\n",
    "\n",
    "text_inputs = (' A girl is on rollerskates talking on her cellphone standing in a parking lot .',\n",
    "               ' A girl is on rollerskates talking on her cellphone standing in a parking lot .')\n",
    "text_inputs = clip.tokenize(text_inputs).to(device)\n",
    "\n",
    "text_features = model.encode_text(text_inputs)\n",
    "print(text_features, text_features.shape)"
   ]
  },
  {
   "cell_type": "code",
   "execution_count": null,
   "id": "be89b0f1",
   "metadata": {},
   "outputs": [],
   "source": []
  }
 ],
 "metadata": {
  "kernelspec": {
   "display_name": "openr1",
   "language": "python",
   "name": "python3"
  },
  "language_info": {
   "codemirror_mode": {
    "name": "ipython",
    "version": 3
   },
   "file_extension": ".py",
   "mimetype": "text/x-python",
   "name": "python",
   "nbconvert_exporter": "python",
   "pygments_lexer": "ipython3",
   "version": "3.11.0"
  }
 },
 "nbformat": 4,
 "nbformat_minor": 5
}
